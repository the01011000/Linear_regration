{
 "cells": [
  {
   "cell_type": "code",
   "execution_count": 1,
   "id": "27de35cc",
   "metadata": {},
   "outputs": [],
   "source": [
    "import matplotlib.pyplot as plt\n",
    "from sklearn.datasets import make_classification\n",
    "from sklearn.model_selection import train_test_split\n",
    "from sklearn.linear_model import LogisticRegression\n",
    "from sklearn.metrics import roc_curve\n",
    "from sklearn.metrics import roc_auc_score"
   ]
  },
  {
   "cell_type": "code",
   "execution_count": 2,
   "id": "57192149",
   "metadata": {},
   "outputs": [],
   "source": [
    "x, y = make_classification(n_samples = 1000, n_classes = 2, n_informative = 10, n_features = 20, random_state = 27)"
   ]
  },
  {
   "cell_type": "code",
   "execution_count": 3,
   "id": "d09ad16a",
   "metadata": {},
   "outputs": [
    {
     "data": {
      "text/plain": [
       "(array([[-1.05111415,  2.21747303, -0.18671232, ...,  1.15516451,\n",
       "          2.72452838, -0.44998938],\n",
       "        [-0.47563435, -2.14308754, -0.13556164, ...,  0.32553708,\n",
       "          1.20523982, -1.17415927],\n",
       "        [-1.01201505,  0.55890546,  0.55001691, ..., -0.5582866 ,\n",
       "         -3.32234854,  2.31853273],\n",
       "        ...,\n",
       "        [ 0.30404733,  3.97998145, -0.64424827, ..., -0.81706154,\n",
       "          4.18899929,  0.12814541],\n",
       "        [-0.10106285,  1.29003895, -1.29354231, ...,  1.57226614,\n",
       "          3.89429749, -1.88522172],\n",
       "        [ 0.34661472,  0.16906765,  0.08468245, ...,  0.4343187 ,\n",
       "         -2.10760273,  1.69215995]]),\n",
       " array([1, 0, 0, 1, 0, 0, 1, 1, 0, 1, 1, 1, 0, 1, 1, 0, 0, 0, 1, 1, 0, 0,\n",
       "        1, 0, 0, 0, 0, 0, 0, 0, 0, 0, 1, 1, 0, 1, 1, 1, 0, 0, 1, 1, 0, 1,\n",
       "        1, 0, 0, 1, 1, 0, 1, 0, 1, 0, 1, 1, 0, 1, 0, 0, 0, 1, 1, 0, 1, 1,\n",
       "        1, 1, 0, 0, 0, 0, 0, 1, 0, 1, 1, 1, 1, 1, 0, 1, 0, 0, 1, 0, 1, 1,\n",
       "        0, 1, 0, 1, 1, 0, 1, 1, 0, 0, 0, 0, 0, 1, 0, 0, 1, 0, 0, 1, 0, 0,\n",
       "        1, 1, 0, 0, 1, 0, 1, 0, 0, 1, 0, 0, 1, 1, 0, 1, 1, 1, 0, 1, 1, 1,\n",
       "        1, 1, 1, 1, 0, 0, 1, 0, 0, 1, 0, 0, 1, 1, 1, 1, 1, 0, 1, 1, 1, 0,\n",
       "        0, 0, 0, 0, 1, 0, 1, 1, 0, 1, 1, 0, 0, 1, 0, 1, 1, 0, 0, 1, 1, 0,\n",
       "        0, 0, 1, 1, 1, 1, 1, 1, 0, 0, 0, 1, 1, 1, 1, 1, 1, 0, 1, 1, 0, 1,\n",
       "        0, 0, 1, 1, 0, 1, 0, 0, 1, 0, 1, 0, 0, 1, 1, 1, 0, 0, 1, 0, 1, 0,\n",
       "        0, 0, 1, 1, 0, 0, 0, 1, 1, 0, 0, 0, 1, 1, 0, 0, 1, 0, 0, 1, 0, 0,\n",
       "        1, 1, 0, 1, 1, 0, 1, 0, 1, 1, 0, 1, 0, 0, 1, 1, 0, 1, 0, 0, 0, 1,\n",
       "        0, 0, 0, 0, 1, 1, 0, 0, 0, 1, 1, 0, 1, 0, 1, 0, 1, 1, 0, 0, 1, 1,\n",
       "        0, 0, 1, 0, 1, 0, 1, 0, 1, 1, 1, 1, 1, 0, 0, 0, 1, 0, 1, 1, 0, 0,\n",
       "        0, 0, 1, 1, 1, 1, 1, 0, 0, 0, 0, 0, 1, 1, 0, 1, 0, 1, 1, 1, 1, 1,\n",
       "        1, 0, 1, 0, 1, 1, 0, 0, 1, 0, 1, 0, 1, 1, 0, 1, 0, 0, 0, 0, 0, 0,\n",
       "        1, 0, 0, 1, 0, 1, 0, 1, 1, 1, 0, 0, 0, 0, 0, 0, 0, 1, 0, 1, 0, 0,\n",
       "        1, 0, 0, 0, 1, 1, 1, 0, 1, 0, 0, 1, 0, 0, 0, 0, 0, 0, 0, 0, 0, 0,\n",
       "        1, 0, 1, 0, 1, 1, 1, 0, 1, 1, 0, 0, 1, 0, 1, 1, 0, 1, 1, 1, 0, 0,\n",
       "        0, 1, 0, 0, 1, 1, 1, 1, 0, 1, 0, 1, 0, 0, 1, 0, 1, 1, 1, 1, 0, 0,\n",
       "        0, 0, 0, 1, 0, 1, 1, 0, 1, 1, 0, 1, 0, 0, 1, 0, 0, 1, 1, 1, 0, 0,\n",
       "        1, 0, 0, 1, 1, 1, 1, 0, 0, 0, 0, 0, 1, 0, 0, 1, 1, 0, 0, 1, 0, 1,\n",
       "        0, 1, 0, 1, 0, 1, 0, 1, 1, 0, 1, 0, 0, 1, 0, 0, 0, 1, 1, 0, 0, 0,\n",
       "        0, 0, 0, 1, 0, 1, 0, 0, 0, 1, 0, 0, 1, 1, 1, 1, 0, 1, 0, 1, 0, 1,\n",
       "        1, 0, 1, 1, 0, 1, 1, 0, 0, 0, 0, 1, 0, 0, 0, 0, 0, 0, 0, 0, 1, 1,\n",
       "        0, 1, 1, 1, 1, 1, 0, 1, 1, 1, 0, 1, 0, 1, 0, 1, 1, 1, 0, 0, 1, 1,\n",
       "        0, 0, 1, 0, 1, 0, 1, 1, 0, 1, 1, 0, 1, 0, 1, 1, 0, 1, 1, 1, 0, 1,\n",
       "        0, 0, 1, 1, 1, 0, 0, 1, 1, 0, 0, 1, 1, 0, 0, 0, 0, 0, 0, 0, 1, 0,\n",
       "        0, 1, 1, 0, 1, 1, 1, 0, 0, 0, 0, 0, 0, 1, 1, 1, 1, 0, 0, 0, 1, 1,\n",
       "        0, 0, 1, 0, 1, 1, 1, 0, 0, 1, 1, 0, 0, 1, 1, 0, 1, 1, 0, 0, 1, 0,\n",
       "        0, 0, 0, 1, 1, 1, 0, 0, 1, 1, 0, 0, 0, 1, 0, 1, 1, 0, 0, 1, 0, 0,\n",
       "        0, 1, 0, 0, 0, 0, 0, 1, 1, 0, 0, 0, 0, 1, 1, 0, 1, 1, 1, 1, 1, 1,\n",
       "        1, 1, 0, 1, 0, 0, 0, 1, 0, 1, 0, 1, 1, 1, 0, 0, 0, 1, 0, 1, 1, 1,\n",
       "        1, 1, 1, 1, 0, 0, 1, 1, 1, 1, 1, 1, 0, 1, 1, 0, 1, 1, 0, 1, 0, 0,\n",
       "        1, 0, 1, 1, 1, 1, 0, 0, 0, 0, 0, 0, 1, 0, 0, 0, 1, 1, 0, 0, 1, 0,\n",
       "        0, 1, 1, 0, 0, 0, 0, 0, 1, 1, 0, 0, 1, 0, 1, 0, 1, 1, 1, 0, 0, 0,\n",
       "        1, 1, 1, 0, 0, 0, 0, 0, 0, 1, 1, 0, 1, 0, 1, 1, 0, 1, 1, 1, 1, 1,\n",
       "        1, 0, 0, 1, 0, 0, 0, 1, 1, 0, 0, 1, 1, 1, 1, 1, 1, 1, 0, 1, 1, 0,\n",
       "        1, 1, 0, 0, 1, 0, 0, 0, 1, 1, 1, 0, 0, 0, 1, 1, 1, 0, 1, 1, 1, 1,\n",
       "        1, 0, 1, 1, 1, 1, 0, 1, 1, 1, 0, 1, 1, 1, 0, 1, 0, 1, 0, 0, 0, 0,\n",
       "        0, 1, 1, 0, 1, 1, 1, 0, 1, 1, 1, 0, 0, 1, 0, 1, 0, 1, 1, 0, 0, 0,\n",
       "        1, 0, 1, 0, 0, 0, 0, 1, 1, 0, 1, 1, 1, 1, 1, 0, 0, 1, 0, 0, 1, 1,\n",
       "        1, 0, 0, 0, 1, 1, 1, 0, 1, 1, 0, 0, 0, 0, 1, 1, 0, 1, 0, 1, 1, 0,\n",
       "        1, 0, 1, 1, 1, 0, 1, 0, 0, 0, 1, 0, 1, 1, 0, 1, 0, 1, 1, 0, 0, 1,\n",
       "        0, 1, 0, 1, 1, 0, 1, 0, 1, 1, 1, 1, 0, 0, 0, 0, 0, 0, 0, 0, 0, 0,\n",
       "        0, 1, 0, 0, 0, 1, 1, 1, 1, 1]))"
      ]
     },
     "execution_count": 3,
     "metadata": {},
     "output_type": "execute_result"
    }
   ],
   "source": [
    "x,y"
   ]
  },
  {
   "cell_type": "code",
   "execution_count": 4,
   "id": "6dbcce9d",
   "metadata": {},
   "outputs": [
    {
     "data": {
      "text/plain": [
       "(1000, 20)"
      ]
     },
     "execution_count": 4,
     "metadata": {},
     "output_type": "execute_result"
    }
   ],
   "source": [
    "x.shape"
   ]
  },
  {
   "cell_type": "code",
   "execution_count": 5,
   "id": "4d045436",
   "metadata": {},
   "outputs": [
    {
     "data": {
      "text/plain": [
       "(1000,)"
      ]
     },
     "execution_count": 5,
     "metadata": {},
     "output_type": "execute_result"
    }
   ],
   "source": [
    "y.shape"
   ]
  },
  {
   "cell_type": "code",
   "execution_count": 6,
   "id": "1ffe7419",
   "metadata": {},
   "outputs": [],
   "source": [
    "import numpy as np"
   ]
  },
  {
   "cell_type": "code",
   "execution_count": 7,
   "id": "7b5a676a",
   "metadata": {},
   "outputs": [
    {
     "data": {
      "text/plain": [
       "array([0, 1])"
      ]
     },
     "execution_count": 7,
     "metadata": {},
     "output_type": "execute_result"
    }
   ],
   "source": [
    "np.unique(y)"
   ]
  },
  {
   "cell_type": "code",
   "execution_count": 8,
   "id": "0c5795f8",
   "metadata": {},
   "outputs": [],
   "source": [
    "x_train, x_test, y_train, y_test = train_test_split(x, y, test_size = 0.3, random_state = 27)"
   ]
  },
  {
   "cell_type": "code",
   "execution_count": 9,
   "id": "e57f7da5",
   "metadata": {},
   "outputs": [],
   "source": [
    "model = LogisticRegression()"
   ]
  },
  {
   "cell_type": "code",
   "execution_count": 10,
   "id": "68a2c89c",
   "metadata": {},
   "outputs": [
    {
     "data": {
      "text/plain": [
       "LogisticRegression()"
      ]
     },
     "execution_count": 10,
     "metadata": {},
     "output_type": "execute_result"
    }
   ],
   "source": [
    "model.fit(x_train, y_train)"
   ]
  },
  {
   "cell_type": "code",
   "execution_count": 11,
   "id": "e549cb80",
   "metadata": {},
   "outputs": [],
   "source": [
    "pred_prob = model.predict_proba(x_test)"
   ]
  },
  {
   "cell_type": "code",
   "execution_count": 12,
   "id": "2a785c08",
   "metadata": {},
   "outputs": [
    {
     "data": {
      "text/plain": [
       "(300, 2)"
      ]
     },
     "execution_count": 12,
     "metadata": {},
     "output_type": "execute_result"
    }
   ],
   "source": [
    "pred_prob.shape"
   ]
  },
  {
   "cell_type": "code",
   "execution_count": 13,
   "id": "8dcd04c4",
   "metadata": {},
   "outputs": [
    {
     "data": {
      "text/plain": [
       "array([[0.64353201, 0.35646799],\n",
       "       [0.28752978, 0.71247022],\n",
       "       [0.3367145 , 0.6632855 ],\n",
       "       [0.41724353, 0.58275647],\n",
       "       [0.09998679, 0.90001321],\n",
       "       [0.01353255, 0.98646745],\n",
       "       [0.48794591, 0.51205409],\n",
       "       [0.96803418, 0.03196582],\n",
       "       [0.14981765, 0.85018235],\n",
       "       [0.57577605, 0.42422395],\n",
       "       [0.04293508, 0.95706492],\n",
       "       [0.37358324, 0.62641676],\n",
       "       [0.0363062 , 0.9636938 ],\n",
       "       [0.95286703, 0.04713297],\n",
       "       [0.16482574, 0.83517426],\n",
       "       [0.81108423, 0.18891577],\n",
       "       [0.86096598, 0.13903402],\n",
       "       [0.11277694, 0.88722306],\n",
       "       [0.02146535, 0.97853465],\n",
       "       [0.13430623, 0.86569377],\n",
       "       [0.44432577, 0.55567423],\n",
       "       [0.55356362, 0.44643638],\n",
       "       [0.87192234, 0.12807766],\n",
       "       [0.95625465, 0.04374535],\n",
       "       [0.29595386, 0.70404614],\n",
       "       [0.10726063, 0.89273937],\n",
       "       [0.48013008, 0.51986992],\n",
       "       [0.00930401, 0.99069599],\n",
       "       [0.9415216 , 0.0584784 ],\n",
       "       [0.25400533, 0.74599467],\n",
       "       [0.13245088, 0.86754912],\n",
       "       [0.25504283, 0.74495717],\n",
       "       [0.23607858, 0.76392142],\n",
       "       [0.25775154, 0.74224846],\n",
       "       [0.84901619, 0.15098381],\n",
       "       [0.16136493, 0.83863507],\n",
       "       [0.97696301, 0.02303699],\n",
       "       [0.83514552, 0.16485448],\n",
       "       [0.37055289, 0.62944711],\n",
       "       [0.90708626, 0.09291374],\n",
       "       [0.97287105, 0.02712895],\n",
       "       [0.24029009, 0.75970991],\n",
       "       [0.07290929, 0.92709071],\n",
       "       [0.96076329, 0.03923671],\n",
       "       [0.84258851, 0.15741149],\n",
       "       [0.18111514, 0.81888486],\n",
       "       [0.42778866, 0.57221134],\n",
       "       [0.94065856, 0.05934144],\n",
       "       [0.91004018, 0.08995982],\n",
       "       [0.41497678, 0.58502322],\n",
       "       [0.98331737, 0.01668263],\n",
       "       [0.98840914, 0.01159086],\n",
       "       [0.23924375, 0.76075625],\n",
       "       [0.07719848, 0.92280152],\n",
       "       [0.03341198, 0.96658802],\n",
       "       [0.00211622, 0.99788378],\n",
       "       [0.77010433, 0.22989567],\n",
       "       [0.07033049, 0.92966951],\n",
       "       [0.30920975, 0.69079025],\n",
       "       [0.22653385, 0.77346615],\n",
       "       [0.57296241, 0.42703759],\n",
       "       [0.4809778 , 0.5190222 ],\n",
       "       [0.18481139, 0.81518861],\n",
       "       [0.93691194, 0.06308806],\n",
       "       [0.47448034, 0.52551966],\n",
       "       [0.96865415, 0.03134585],\n",
       "       [0.72791456, 0.27208544],\n",
       "       [0.11237298, 0.88762702],\n",
       "       [0.3729779 , 0.6270221 ],\n",
       "       [0.19065353, 0.80934647],\n",
       "       [0.16038107, 0.83961893],\n",
       "       [0.42037944, 0.57962056],\n",
       "       [0.98457527, 0.01542473],\n",
       "       [0.83229487, 0.16770513],\n",
       "       [0.87706387, 0.12293613],\n",
       "       [0.60709247, 0.39290753],\n",
       "       [0.60818179, 0.39181821],\n",
       "       [0.05915061, 0.94084939],\n",
       "       [0.18380208, 0.81619792],\n",
       "       [0.87556522, 0.12443478],\n",
       "       [0.18329848, 0.81670152],\n",
       "       [0.12052303, 0.87947697],\n",
       "       [0.50902493, 0.49097507],\n",
       "       [0.14245102, 0.85754898],\n",
       "       [0.76619798, 0.23380202],\n",
       "       [0.92938346, 0.07061654],\n",
       "       [0.33923949, 0.66076051],\n",
       "       [0.83799839, 0.16200161],\n",
       "       [0.96467229, 0.03532771],\n",
       "       [0.35080982, 0.64919018],\n",
       "       [0.72868081, 0.27131919],\n",
       "       [0.25985598, 0.74014402],\n",
       "       [0.98033564, 0.01966436],\n",
       "       [0.18891454, 0.81108546],\n",
       "       [0.94622433, 0.05377567],\n",
       "       [0.07042047, 0.92957953],\n",
       "       [0.24059161, 0.75940839],\n",
       "       [0.78906816, 0.21093184],\n",
       "       [0.41701698, 0.58298302],\n",
       "       [0.20814731, 0.79185269],\n",
       "       [0.54346455, 0.45653545],\n",
       "       [0.53825448, 0.46174552],\n",
       "       [0.92463028, 0.07536972],\n",
       "       [0.50637025, 0.49362975],\n",
       "       [0.94074674, 0.05925326],\n",
       "       [0.84335223, 0.15664777],\n",
       "       [0.24424521, 0.75575479],\n",
       "       [0.84235892, 0.15764108],\n",
       "       [0.13332729, 0.86667271],\n",
       "       [0.39723003, 0.60276997],\n",
       "       [0.84183158, 0.15816842],\n",
       "       [0.0456391 , 0.9543609 ],\n",
       "       [0.06447696, 0.93552304],\n",
       "       [0.85247767, 0.14752233],\n",
       "       [0.13006104, 0.86993896],\n",
       "       [0.39980468, 0.60019532],\n",
       "       [0.00701214, 0.99298786],\n",
       "       [0.56778321, 0.43221679],\n",
       "       [0.62884288, 0.37115712],\n",
       "       [0.74570727, 0.25429273],\n",
       "       [0.98884026, 0.01115974],\n",
       "       [0.25219465, 0.74780535],\n",
       "       [0.35213288, 0.64786712],\n",
       "       [0.09107123, 0.90892877],\n",
       "       [0.06762427, 0.93237573],\n",
       "       [0.95837205, 0.04162795],\n",
       "       [0.24065953, 0.75934047],\n",
       "       [0.75008982, 0.24991018],\n",
       "       [0.81709627, 0.18290373],\n",
       "       [0.11156733, 0.88843267],\n",
       "       [0.32058567, 0.67941433],\n",
       "       [0.91171741, 0.08828259],\n",
       "       [0.75998598, 0.24001402],\n",
       "       [0.77183151, 0.22816849],\n",
       "       [0.32461341, 0.67538659],\n",
       "       [0.29371172, 0.70628828],\n",
       "       [0.96506575, 0.03493425],\n",
       "       [0.98809019, 0.01190981],\n",
       "       [0.29021466, 0.70978534],\n",
       "       [0.77859924, 0.22140076],\n",
       "       [0.72396966, 0.27603034],\n",
       "       [0.54976518, 0.45023482],\n",
       "       [0.69389265, 0.30610735],\n",
       "       [0.94099148, 0.05900852],\n",
       "       [0.98513011, 0.01486989],\n",
       "       [0.06439041, 0.93560959],\n",
       "       [0.14739589, 0.85260411],\n",
       "       [0.81238905, 0.18761095],\n",
       "       [0.89912782, 0.10087218],\n",
       "       [0.59573409, 0.40426591],\n",
       "       [0.98337765, 0.01662235],\n",
       "       [0.46166444, 0.53833556],\n",
       "       [0.00440885, 0.99559115],\n",
       "       [0.90418213, 0.09581787],\n",
       "       [0.95577204, 0.04422796],\n",
       "       [0.55043351, 0.44956649],\n",
       "       [0.64899644, 0.35100356],\n",
       "       [0.93733196, 0.06266804],\n",
       "       [0.97542887, 0.02457113],\n",
       "       [0.03654731, 0.96345269],\n",
       "       [0.12049861, 0.87950139],\n",
       "       [0.3194004 , 0.6805996 ],\n",
       "       [0.1030575 , 0.8969425 ],\n",
       "       [0.07422459, 0.92577541],\n",
       "       [0.93844683, 0.06155317],\n",
       "       [0.97904181, 0.02095819],\n",
       "       [0.09514428, 0.90485572],\n",
       "       [0.73488795, 0.26511205],\n",
       "       [0.1791286 , 0.8208714 ],\n",
       "       [0.4072099 , 0.5927901 ],\n",
       "       [0.69301706, 0.30698294],\n",
       "       [0.95385449, 0.04614551],\n",
       "       [0.14861454, 0.85138546],\n",
       "       [0.25397351, 0.74602649],\n",
       "       [0.09565742, 0.90434258],\n",
       "       [0.42312297, 0.57687703],\n",
       "       [0.11698236, 0.88301764],\n",
       "       [0.90700787, 0.09299213],\n",
       "       [0.95039812, 0.04960188],\n",
       "       [0.68528409, 0.31471591],\n",
       "       [0.81777298, 0.18222702],\n",
       "       [0.74409236, 0.25590764],\n",
       "       [0.54305106, 0.45694894],\n",
       "       [0.04292209, 0.95707791],\n",
       "       [0.10084043, 0.89915957],\n",
       "       [0.08908627, 0.91091373],\n",
       "       [0.02607975, 0.97392025],\n",
       "       [0.87479497, 0.12520503],\n",
       "       [0.11386091, 0.88613909],\n",
       "       [0.40606815, 0.59393185],\n",
       "       [0.87246625, 0.12753375],\n",
       "       [0.97082096, 0.02917904],\n",
       "       [0.26438368, 0.73561632],\n",
       "       [0.03522411, 0.96477589],\n",
       "       [0.95772299, 0.04227701],\n",
       "       [0.88448548, 0.11551452],\n",
       "       [0.90735335, 0.09264665],\n",
       "       [0.97765672, 0.02234328],\n",
       "       [0.15731787, 0.84268213],\n",
       "       [0.86939728, 0.13060272],\n",
       "       [0.60582233, 0.39417767],\n",
       "       [0.04507594, 0.95492406],\n",
       "       [0.77690747, 0.22309253],\n",
       "       [0.69160555, 0.30839445],\n",
       "       [0.01135947, 0.98864053],\n",
       "       [0.68825202, 0.31174798],\n",
       "       [0.9978579 , 0.0021421 ],\n",
       "       [0.96631113, 0.03368887],\n",
       "       [0.42147102, 0.57852898],\n",
       "       [0.05928922, 0.94071078],\n",
       "       [0.81379652, 0.18620348],\n",
       "       [0.68344599, 0.31655401],\n",
       "       [0.74905971, 0.25094029],\n",
       "       [0.66094178, 0.33905822],\n",
       "       [0.96133765, 0.03866235],\n",
       "       [0.11936618, 0.88063382],\n",
       "       [0.16079009, 0.83920991],\n",
       "       [0.5558309 , 0.4441691 ],\n",
       "       [0.03927114, 0.96072886],\n",
       "       [0.26245829, 0.73754171],\n",
       "       [0.57056032, 0.42943968],\n",
       "       [0.43982084, 0.56017916],\n",
       "       [0.97875864, 0.02124136],\n",
       "       [0.7728384 , 0.2271616 ],\n",
       "       [0.07998227, 0.92001773],\n",
       "       [0.55616762, 0.44383238],\n",
       "       [0.45200583, 0.54799417],\n",
       "       [0.85222886, 0.14777114],\n",
       "       [0.80816753, 0.19183247],\n",
       "       [0.90686709, 0.09313291],\n",
       "       [0.49604538, 0.50395462],\n",
       "       [0.2856033 , 0.7143967 ],\n",
       "       [0.16789822, 0.83210178],\n",
       "       [0.00994029, 0.99005971],\n",
       "       [0.48561933, 0.51438067],\n",
       "       [0.00575006, 0.99424994],\n",
       "       [0.56469712, 0.43530288],\n",
       "       [0.4386945 , 0.5613055 ],\n",
       "       [0.30254654, 0.69745346],\n",
       "       [0.17040833, 0.82959167],\n",
       "       [0.05540936, 0.94459064],\n",
       "       [0.48143816, 0.51856184],\n",
       "       [0.18510887, 0.81489113],\n",
       "       [0.4446323 , 0.5553677 ],\n",
       "       [0.03927201, 0.96072799],\n",
       "       [0.3246076 , 0.6753924 ],\n",
       "       [0.61043056, 0.38956944],\n",
       "       [0.70237425, 0.29762575],\n",
       "       [0.5750176 , 0.4249824 ],\n",
       "       [0.85898555, 0.14101445],\n",
       "       [0.10646104, 0.89353896],\n",
       "       [0.96764753, 0.03235247],\n",
       "       [0.08640813, 0.91359187],\n",
       "       [0.6788932 , 0.3211068 ],\n",
       "       [0.72931995, 0.27068005],\n",
       "       [0.3596053 , 0.6403947 ],\n",
       "       [0.31510363, 0.68489637],\n",
       "       [0.99161103, 0.00838897],\n",
       "       [0.97167885, 0.02832115],\n",
       "       [0.04506549, 0.95493451],\n",
       "       [0.98425525, 0.01574475],\n",
       "       [0.15260243, 0.84739757],\n",
       "       [0.35415401, 0.64584599],\n",
       "       [0.78473768, 0.21526232],\n",
       "       [0.14303377, 0.85696623],\n",
       "       [0.27198384, 0.72801616],\n",
       "       [0.07084202, 0.92915798],\n",
       "       [0.07081631, 0.92918369],\n",
       "       [0.96913364, 0.03086636],\n",
       "       [0.49082235, 0.50917765],\n",
       "       [0.157009  , 0.842991  ],\n",
       "       [0.09344593, 0.90655407],\n",
       "       [0.05324804, 0.94675196],\n",
       "       [0.94658076, 0.05341924],\n",
       "       [0.10976202, 0.89023798],\n",
       "       [0.80210556, 0.19789444],\n",
       "       [0.99172044, 0.00827956],\n",
       "       [0.17846727, 0.82153273],\n",
       "       [0.09201946, 0.90798054],\n",
       "       [0.90955404, 0.09044596],\n",
       "       [0.26533836, 0.73466164],\n",
       "       [0.97982451, 0.02017549],\n",
       "       [0.06720136, 0.93279864],\n",
       "       [0.01854823, 0.98145177],\n",
       "       [0.80486582, 0.19513418],\n",
       "       [0.69319396, 0.30680604],\n",
       "       [0.16353796, 0.83646204],\n",
       "       [0.98031038, 0.01968962],\n",
       "       [0.93033508, 0.06966492],\n",
       "       [0.46189841, 0.53810159],\n",
       "       [0.97821426, 0.02178574],\n",
       "       [0.17489104, 0.82510896],\n",
       "       [0.76893926, 0.23106074],\n",
       "       [0.52341565, 0.47658435],\n",
       "       [0.34219407, 0.65780593],\n",
       "       [0.00732084, 0.99267916],\n",
       "       [0.07077642, 0.92922358],\n",
       "       [0.35879154, 0.64120846],\n",
       "       [0.01267334, 0.98732666],\n",
       "       [0.12153267, 0.87846733]])"
      ]
     },
     "execution_count": 13,
     "metadata": {},
     "output_type": "execute_result"
    }
   ],
   "source": [
    "pred_prob"
   ]
  },
  {
   "cell_type": "code",
   "execution_count": 14,
   "id": "02bd937c",
   "metadata": {},
   "outputs": [],
   "source": [
    "from sklearn.metrics import classification_report"
   ]
  },
  {
   "cell_type": "code",
   "execution_count": 15,
   "id": "1bc56dde",
   "metadata": {},
   "outputs": [],
   "source": [
    "y_pred = model.predict(x_test)"
   ]
  },
  {
   "cell_type": "code",
   "execution_count": 19,
   "id": "122c2f9b",
   "metadata": {},
   "outputs": [],
   "source": [
    "from collections import Counter"
   ]
  },
  {
   "cell_type": "code",
   "execution_count": 20,
   "id": "47b4f873",
   "metadata": {},
   "outputs": [
    {
     "data": {
      "text/plain": [
       "Counter({1: 499, 0: 501})"
      ]
     },
     "execution_count": 20,
     "metadata": {},
     "output_type": "execute_result"
    }
   ],
   "source": [
    "Counter(y)"
   ]
  },
  {
   "cell_type": "code",
   "execution_count": 16,
   "id": "d2c31d64",
   "metadata": {},
   "outputs": [
    {
     "name": "stdout",
     "output_type": "stream",
     "text": [
      "              precision    recall  f1-score   support\n",
      "\n",
      "           0       0.84      0.78      0.81       152\n",
      "           1       0.79      0.85      0.82       148\n",
      "\n",
      "    accuracy                           0.82       300\n",
      "   macro avg       0.82      0.82      0.82       300\n",
      "weighted avg       0.82      0.82      0.82       300\n",
      "\n"
     ]
    }
   ],
   "source": [
    "print(classification_report(y_test, y_pred))"
   ]
  },
  {
   "cell_type": "code",
   "execution_count": 21,
   "id": "cc22fdf2",
   "metadata": {},
   "outputs": [],
   "source": [
    "fpr, tpr, thresh = roc_curve(y_test, pred_prob[:,1], pos_label = 1)\n",
    "\n",
    "random_probs = [0 for i in range(len(y_test))]\n",
    "p_fpr, p_tpr, _ = roc_curve(y_test, random_probs, pos_label = 1)"
   ]
  },
  {
   "cell_type": "code",
   "execution_count": 23,
   "id": "d2d4a4e3",
   "metadata": {},
   "outputs": [
    {
     "name": "stdout",
     "output_type": "stream",
     "text": [
      "AUC score =  0.8626422475106685\n"
     ]
    }
   ],
   "source": [
    "auc_score = roc_auc_score(y_test, pred_prob[:,1])\n",
    "print(\"AUC score = \", auc_score)"
   ]
  },
  {
   "cell_type": "code",
   "execution_count": 40,
   "id": "42a65b33",
   "metadata": {},
   "outputs": [
    {
     "data": {
      "image/png": "[encoded data removed]",
      "text/plain": [
       "<Figure size 576x396 with 1 Axes>"
      ]
     },
     "metadata": {},
     "output_type": "display_data"
    }
   ],
   "source": [
    "plt.style.use('seaborn')\n",
    "\n",
    "plt.plot(fpr, tpr, linestyle = 'solid', color = 'green', label = 'Logistic Regression')\n",
    "plt.plot(p_fpr, p_tpr, linestyle = 'dashdot', color = 'blue')\n",
    "\n",
    "plt.title('AUC_ROC curve')\n",
    "\n",
    "plt.xlabel('False Positive Rate')\n",
    "plt.ylabel('True Positive Rate')\n",
    "plt.legend(loc = 'best')\n",
    "plt.savefig('ROC',dpi = 300)\n",
    "\n",
    "plt.show()"
   ]
  },
  {
   "cell_type": "code",
   "execution_count": null,
   "id": "b43c307d",
   "metadata": {},
   "outputs": [],
   "source": []
  }
 ],
 "metadata": {
  "kernelspec": {
   "display_name": "Python 3 (ipykernel)",
   "language": "python",
   "name": "python3"
  },
  "language_info": {
   "codemirror_mode": {
    "name": "ipython",
    "version": 3
   },
   "file_extension": ".py",
   "mimetype": "text/x-python",
   "name": "python",
   "nbconvert_exporter": "python",
   "pygments_lexer": "ipython3",
   "version": "3.9.12"
  }
 },
 "nbformat": 4,
 "nbformat_minor": 5
}
