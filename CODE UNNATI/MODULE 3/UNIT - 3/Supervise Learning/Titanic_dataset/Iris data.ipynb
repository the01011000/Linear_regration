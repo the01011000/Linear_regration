{
 "cells": [
  {
   "cell_type": "code",
   "execution_count": 3,
   "metadata": {},
   "outputs": [],
   "source": [
    "from sklearn.datasets import load_iris\n",
    "import pandas as pd"
   ]
  },
  {
   "cell_type": "code",
   "execution_count": 4,
   "metadata": {},
   "outputs": [],
   "source": [
    "df = load_iris()"
   ]
  },
  {
   "cell_type": "code",
   "execution_count": 9,
   "metadata": {},
   "outputs": [
    {
     "data": {
      "text/html": [
       "<div>\n",
       "<style scoped>\n",
       "    .dataframe tbody tr th:only-of-type {\n",
       "        vertical-align: middle;\n",
       "    }\n",
       "\n",
       "    .dataframe tbody tr th {\n",
       "        vertical-align: top;\n",
       "    }\n",
       "\n",
       "    .dataframe thead th {\n",
       "        text-align: right;\n",
       "    }\n",
       "</style>\n",
       "<table border=\"1\" class=\"dataframe\">\n",
       "  <thead>\n",
       "    <tr style=\"text-align: right;\">\n",
       "      <th></th>\n",
       "      <th>sepal length (cm)</th>\n",
       "      <th>sepal width (cm)</th>\n",
       "      <th>petal length (cm)</th>\n",
       "      <th>petal width (cm)</th>\n",
       "    </tr>\n",
       "  </thead>\n",
       "  <tbody>\n",
       "    <tr>\n",
       "      <th>0</th>\n",
       "      <td>5.1</td>\n",
       "      <td>3.5</td>\n",
       "      <td>1.4</td>\n",
       "      <td>0.2</td>\n",
       "    </tr>\n",
       "    <tr>\n",
       "      <th>1</th>\n",
       "      <td>4.9</td>\n",
       "      <td>3.0</td>\n",
       "      <td>1.4</td>\n",
       "      <td>0.2</td>\n",
       "    </tr>\n",
       "    <tr>\n",
       "      <th>2</th>\n",
       "      <td>4.7</td>\n",
       "      <td>3.2</td>\n",
       "      <td>1.3</td>\n",
       "      <td>0.2</td>\n",
       "    </tr>\n",
       "    <tr>\n",
       "      <th>3</th>\n",
       "      <td>4.6</td>\n",
       "      <td>3.1</td>\n",
       "      <td>1.5</td>\n",
       "      <td>0.2</td>\n",
       "    </tr>\n",
       "    <tr>\n",
       "      <th>4</th>\n",
       "      <td>5.0</td>\n",
       "      <td>3.6</td>\n",
       "      <td>1.4</td>\n",
       "      <td>0.2</td>\n",
       "    </tr>\n",
       "  </tbody>\n",
       "</table>\n",
       "</div>"
      ],
      "text/plain": [
       "   sepal length (cm)  sepal width (cm)  petal length (cm)  petal width (cm)\n",
       "0                5.1               3.5                1.4               0.2\n",
       "1                4.9               3.0                1.4               0.2\n",
       "2                4.7               3.2                1.3               0.2\n",
       "3                4.6               3.1                1.5               0.2\n",
       "4                5.0               3.6                1.4               0.2"
      ]
     },
     "execution_count": 9,
     "metadata": {},
     "output_type": "execute_result"
    }
   ],
   "source": [
    "iris_df_feature = pd.DataFrame(df.data, columns=df.feature_names)\n",
    "iris_df.head()"
   ]
  },
  {
   "cell_type": "code",
   "execution_count": 12,
   "metadata": {},
   "outputs": [
    {
     "data": {
      "text/html": [
       "<div>\n",
       "<style scoped>\n",
       "    .dataframe tbody tr th:only-of-type {\n",
       "        vertical-align: middle;\n",
       "    }\n",
       "\n",
       "    .dataframe tbody tr th {\n",
       "        vertical-align: top;\n",
       "    }\n",
       "\n",
       "    .dataframe thead th {\n",
       "        text-align: right;\n",
       "    }\n",
       "</style>\n",
       "<table border=\"1\" class=\"dataframe\">\n",
       "  <thead>\n",
       "    <tr style=\"text-align: right;\">\n",
       "      <th></th>\n",
       "      <th>0</th>\n",
       "    </tr>\n",
       "  </thead>\n",
       "  <tbody>\n",
       "    <tr>\n",
       "      <th>0</th>\n",
       "      <td>0</td>\n",
       "    </tr>\n",
       "    <tr>\n",
       "      <th>1</th>\n",
       "      <td>0</td>\n",
       "    </tr>\n",
       "    <tr>\n",
       "      <th>2</th>\n",
       "      <td>0</td>\n",
       "    </tr>\n",
       "    <tr>\n",
       "      <th>3</th>\n",
       "      <td>0</td>\n",
       "    </tr>\n",
       "    <tr>\n",
       "      <th>4</th>\n",
       "      <td>0</td>\n",
       "    </tr>\n",
       "  </tbody>\n",
       "</table>\n",
       "</div>"
      ],
      "text/plain": [
       "   0\n",
       "0  0\n",
       "1  0\n",
       "2  0\n",
       "3  0\n",
       "4  0"
      ]
     },
     "execution_count": 12,
     "metadata": {},
     "output_type": "execute_result"
    }
   ],
   "source": [
    "iris_df_target = pd.DataFrame(df.target)\n",
    "iris_df_target.head()"
   ]
  },
  {
   "cell_type": "code",
   "execution_count": null,
   "metadata": {},
   "outputs": [],
   "source": []
  },
  {
   "cell_type": "code",
   "execution_count": 41,
   "metadata": {},
   "outputs": [],
   "source": [
    "from sklearn.model_selection import train_test_split\n",
    "from sklearn.linear_model import LogisticRegression\n",
    "from sklearn.metrics import accuracy_score, confusion_matrix, classification_report, recall_score, precision_score, f1_score"
   ]
  },
  {
   "cell_type": "code",
   "execution_count": 55,
   "metadata": {},
   "outputs": [
    {
     "data": {
      "text/plain": [
       "Index(['sepal length (cm)', 'sepal width (cm)', 'petal length (cm)',\n",
       "       'petal width (cm)'],\n",
       "      dtype='object')"
      ]
     },
     "execution_count": 55,
     "metadata": {},
     "output_type": "execute_result"
    }
   ],
   "source": [
    "iris_df_feature.columns"
   ]
  },
  {
   "cell_type": "code",
   "execution_count": 42,
   "metadata": {},
   "outputs": [],
   "source": [
    "x_train,x_test,y_train,y_test = train_test_split(iris_df_feature,iris_df_target)"
   ]
  },
  {
   "cell_type": "code",
   "execution_count": 46,
   "metadata": {},
   "outputs": [],
   "source": [
    "my_model = LogisticRegression(class_weight={0:0.6,1:0.4})"
   ]
  },
  {
   "cell_type": "code",
   "execution_count": 47,
   "metadata": {},
   "outputs": [
    {
     "name": "stderr",
     "output_type": "stream",
     "text": [
      "/usr/local/lib/python3.7/site-packages/sklearn/utils/validation.py:63: DataConversionWarning: A column-vector y was passed when a 1d array was expected. Please change the shape of y to (n_samples, ), for example using ravel().\n",
      "  return f(*args, **kwargs)\n"
     ]
    },
    {
     "data": {
      "text/plain": [
       "LogisticRegression(class_weight={0: 0.6, 1: 0.4})"
      ]
     },
     "execution_count": 47,
     "metadata": {},
     "output_type": "execute_result"
    }
   ],
   "source": [
    "my_model.fit(x_train,y_train)"
   ]
  },
  {
   "cell_type": "code",
   "execution_count": 50,
   "metadata": {},
   "outputs": [
    {
     "data": {
      "text/plain": [
       "array([1, 2, 1, 2, 2, 2, 2, 1, 0, 1, 2, 1, 0, 1, 0, 2, 0, 1, 2, 1, 1, 2,\n",
       "       0, 2, 2, 2, 0, 2, 2, 2, 2, 1, 2, 0, 0, 1, 2, 2])"
      ]
     },
     "execution_count": 50,
     "metadata": {},
     "output_type": "execute_result"
    }
   ],
   "source": [
    "my_preds = my_model.predict(x_test)"
   ]
  },
  {
   "cell_type": "code",
   "execution_count": null,
   "metadata": {},
   "outputs": [],
   "source": []
  },
  {
   "cell_type": "code",
   "execution_count": 49,
   "metadata": {},
   "outputs": [
    {
     "name": "stdout",
     "output_type": "stream",
     "text": [
      "[[ 8  0  0]\n",
      " [ 0 11  0]\n",
      " [ 0  6 13]]\n"
     ]
    }
   ],
   "source": [
    "print(confusion_matrix(my_preds,y_test))"
   ]
  },
  {
   "cell_type": "code",
   "execution_count": 54,
   "metadata": {},
   "outputs": [
    {
     "data": {
      "text/plain": [
       "array([[4.66459374e-02, 7.49896726e-01, 2.03457336e-01],\n",
       "       [3.34862398e-05, 2.90771196e-02, 9.70889394e-01],\n",
       "       [2.55500202e-01, 7.28481252e-01, 1.60185453e-02],\n",
       "       [3.81414113e-03, 3.94603309e-01, 6.01582550e-01],\n",
       "       [3.03109988e-03, 3.46773002e-01, 6.50195898e-01],\n",
       "       [4.53155613e-05, 2.17353714e-02, 9.78219313e-01],\n",
       "       [1.08466287e-02, 4.41235931e-01, 5.47917440e-01],\n",
       "       [1.13610143e-02, 6.33078908e-01, 3.55560078e-01],\n",
       "       [9.37018902e-01, 6.29707425e-02, 1.03552996e-05],\n",
       "       [1.91780205e-02, 6.98969828e-01, 2.81852151e-01],\n",
       "       [5.19728679e-03, 2.80404651e-01, 7.14398062e-01],\n",
       "       [4.01995656e-02, 8.75058681e-01, 8.47417539e-02],\n",
       "       [9.58138234e-01, 4.18596111e-02, 2.15484826e-06],\n",
       "       [1.07432351e-02, 5.09851093e-01, 4.79405672e-01],\n",
       "       [9.63341140e-01, 3.66560623e-02, 2.79776292e-06],\n",
       "       [2.62892471e-03, 1.59954171e-01, 8.37416904e-01],\n",
       "       [9.66774243e-01, 3.32246714e-02, 1.08579692e-06],\n",
       "       [1.03865086e-01, 7.63231768e-01, 1.32903146e-01],\n",
       "       [4.00994113e-04, 9.28869684e-02, 9.06712038e-01],\n",
       "       [5.92827094e-02, 8.27037026e-01, 1.13680264e-01],\n",
       "       [1.12428487e-01, 8.44792496e-01, 4.27790179e-02],\n",
       "       [4.69040549e-03, 4.81761736e-01, 5.13547859e-01],\n",
       "       [9.56730881e-01, 4.32624192e-02, 6.69949950e-06],\n",
       "       [3.65165591e-05, 1.46806817e-02, 9.85282802e-01],\n",
       "       [1.98399636e-04, 5.84515873e-02, 9.41350013e-01],\n",
       "       [9.40549520e-05, 2.11044239e-02, 9.78801521e-01],\n",
       "       [9.66020448e-01, 3.39777687e-02, 1.78290337e-06],\n",
       "       [2.03605014e-03, 2.51219201e-01, 7.46744749e-01],\n",
       "       [1.89167327e-03, 2.12059796e-01, 7.86048531e-01],\n",
       "       [1.07548199e-03, 1.64502299e-01, 8.34422219e-01],\n",
       "       [1.17386582e-06, 3.25038276e-03, 9.96748443e-01],\n",
       "       [1.54473888e-01, 8.15375746e-01, 3.01503659e-02],\n",
       "       [4.66946414e-06, 9.60072276e-03, 9.90394608e-01],\n",
       "       [9.65293480e-01, 3.47049807e-02, 1.53977424e-06],\n",
       "       [9.40783806e-01, 5.92115383e-02, 4.65594618e-06],\n",
       "       [6.04884762e-02, 7.76623321e-01, 1.62888203e-01],\n",
       "       [2.13039029e-05, 1.34501520e-02, 9.86528544e-01],\n",
       "       [1.32470106e-04, 4.70888110e-02, 9.52778719e-01]])"
      ]
     },
     "execution_count": 54,
     "metadata": {},
     "output_type": "execute_result"
    }
   ],
   "source": [
    "my_model.predict_proba(x_test)"
   ]
  },
  {
   "cell_type": "code",
   "execution_count": null,
   "metadata": {},
   "outputs": [],
   "source": []
  }
 ],
 "metadata": {
  "kernelspec": {
   "display_name": "Python 3",
   "language": "python",
   "name": "python3"
  },
  "language_info": {
   "codemirror_mode": {
    "name": "ipython",
    "version": 3
   },
   "file_extension": ".py",
   "mimetype": "text/x-python",
   "name": "python",
   "nbconvert_exporter": "python",
   "pygments_lexer": "ipython3",
   "version": "3.7.6"
  }
 },
 "nbformat": 4,
 "nbformat_minor": 4
}
