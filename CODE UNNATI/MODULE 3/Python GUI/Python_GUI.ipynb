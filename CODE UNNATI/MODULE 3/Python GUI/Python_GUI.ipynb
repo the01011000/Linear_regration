{
 "cells": [
  {
   "cell_type": "code",
   "execution_count": 1,
   "id": "137bf644",
   "metadata": {},
   "outputs": [],
   "source": [
    "import tkinter as tk"
   ]
  },
  {
   "cell_type": "code",
   "execution_count": 14,
   "id": "98511d43",
   "metadata": {},
   "outputs": [],
   "source": [
    "window = tk.Tk()\n",
    "window.title('Welcome to goa singham')\n",
    "\n",
    "label = tk.Label(window,text = 'Hyy I am Bhavin',font = (\"Times New Roman\",40)).pack()\n",
    "\n",
    "window.mainloop()"
   ]
  },
  {
   "cell_type": "code",
   "execution_count": 15,
   "id": "957aacdd",
   "metadata": {},
   "outputs": [],
   "source": [
    "window = tk.Tk()\n",
    "window.title('Welcome to goa singham')\n",
    "\n",
    "label = tk.Label(window,text = 'Hyy I am Bhavin',font = (\"Times New Roman\",40)).grid(column = 0,row = 0)\n",
    "\n",
    "window.mainloop()"
   ]
  },
  {
   "cell_type": "code",
   "execution_count": 16,
   "id": "4ecd0b1b",
   "metadata": {},
   "outputs": [],
   "source": [
    "window = tk.Tk()\n",
    "window.title('Welcome to goa singham')\n",
    "\n",
    "button = tk.Button(window,text = 'button',font = (\"Times New Roman\",40)).pack()\n",
    "\n",
    "window.mainloop()"
   ]
  },
  {
   "cell_type": "code",
   "execution_count": 20,
   "id": "cbac6b39",
   "metadata": {},
   "outputs": [],
   "source": [
    "window = tk.Tk()\n",
    "window.title('Welcome to goa singham')\n",
    "\n",
    "button = tk.Button(window,text = 'button',font = (\"Times New Roman\",40),bg = 'yellow',fg = 'black').grid(column = 0,row = 0)\n",
    "\n",
    "window.mainloop()"
   ]
  },
  {
   "cell_type": "code",
   "execution_count": 22,
   "id": "6f8f50cf",
   "metadata": {},
   "outputs": [],
   "source": [
    "window = tk.Tk()\n",
    "window.title('Welcome to goa singham')\n",
    "\n",
    "def sms():\n",
    "    label = tk.Label(window,text = 'Hyy I am Bhavin',font = (\"Times New Roman\",40)).pack()\n",
    "\n",
    "button = tk.Button(window,text = 'button',font = (\"Times New Roman\",40),command = sms).pack()\n",
    "\n",
    "window.mainloop()"
   ]
  },
  {
   "cell_type": "code",
   "execution_count": 37,
   "id": "825921e3",
   "metadata": {},
   "outputs": [],
   "source": [
    "from tkinter import ttk\n",
    "\n",
    "window = tk.Tk()\n",
    "window.title('Welcome to goa singham')\n",
    "\n",
    "drop_box = ttk.Combobox(window,font = (\"Times New Roman\",40))\n",
    "drop_box['values'] = (1,2,3,4,\"SAP\") \n",
    "drop_box.grid(column = 0,row = 0)\n",
    "\n",
    "window.mainloop()"
   ]
  },
  {
   "cell_type": "code",
   "execution_count": 38,
   "id": "20872d38",
   "metadata": {},
   "outputs": [],
   "source": [
    "import os"
   ]
  },
  {
   "cell_type": "code",
   "execution_count": 39,
   "id": "3c24df74",
   "metadata": {},
   "outputs": [],
   "source": [
    "from tkinter import ttk\n",
    "\n",
    "window = tk.Tk()\n",
    "window.title('Welcome to goa singham')\n",
    "\n",
    "drop_box = ttk.Combobox(window,font = (\"Times New Roman\",40))\n",
    "drop_box['values'] = (os.listdir()) \n",
    "drop_box.grid(column = 0,row = 0)\n",
    "\n",
    "window.mainloop()"
   ]
  },
  {
   "cell_type": "code",
   "execution_count": 47,
   "id": "543119f2",
   "metadata": {},
   "outputs": [],
   "source": [
    "from tkinter import ttk\n",
    "\n",
    "window = tk.Tk()\n",
    "window.title('Welcome to goa singham')\n",
    "\n",
    "chk = ttk.Checkbutton(window,text = 'Login').pack()\n",
    "\n",
    "window.mainloop()"
   ]
  },
  {
   "cell_type": "code",
   "execution_count": 49,
   "id": "0c773483",
   "metadata": {},
   "outputs": [],
   "source": [
    "from tkinter import ttk\n",
    "\n",
    "window = tk.Tk()\n",
    "window.title('Welcome to goa singham')\n",
    "\n",
    "chk_status = tk.BooleanVar()\n",
    "chk_status.set(True)\n",
    "chk = ttk.Checkbutton(window,text = 'Login',var = chk_status).pack()\n",
    "\n",
    "window.mainloop()"
   ]
  },
  {
   "cell_type": "code",
   "execution_count": 55,
   "id": "059df8ad",
   "metadata": {},
   "outputs": [],
   "source": [
    "from tkinter import ttk\n",
    "from tkinter import messagebox\n",
    "\n",
    "window = tk.Tk()\n",
    "window.title('Welcome to goa singham')\n",
    "\n",
    "messagebox.showinfo(\"Message content\",\"File not found\")\n",
    "\n",
    "window.mainloop()"
   ]
  },
  {
   "cell_type": "code",
   "execution_count": 62,
   "id": "49ed7133",
   "metadata": {},
   "outputs": [],
   "source": [
    "from tkinter import ttk\n",
    "from tkinter import messagebox\n",
    "\n",
    "window = tk.Tk()\n",
    "window.title('Welcome to goa singham')\n",
    "\n",
    "def sms():\n",
    "    messagebox.showinfo(\"Message content\",\"File not found\")\n",
    "    \n",
    "button = tk.Button(window,text = 'button',font = (\"Times New Roman\",40),command = sms).pack()\n",
    "\n",
    "window.mainloop()"
   ]
  },
  {
   "cell_type": "code",
   "execution_count": 101,
   "id": "6c6ae7ca",
   "metadata": {},
   "outputs": [],
   "source": [
    "from tkinter import ttk\n",
    "window = tk.Tk()\n",
    "window.title('Welcome to goa singham')\n",
    "\n",
    "label = tk.Label(window,text = 'Username',font = (\"Times New Roman\",40)).grid(column = 0,row = 0)\n",
    "text = tk.Entry(window,width = 40).grid(column = 1,row = 0)\n",
    "\n",
    "label = tk.Label(window,text = 'Password',font = (\"Times New Roman\",40)).grid(column = 0,row = 1)\n",
    "text = tk.Entry(window,width = 40).grid(column = 1,row = 1)\n",
    "\n",
    "chk = ttk.Checkbutton(window,text = 'Login').grid(columnspan = 2, row = 2)\n",
    "\n",
    "window.mainloop()"
   ]
  },
  {
   "cell_type": "code",
   "execution_count": 117,
   "id": "0be35455",
   "metadata": {},
   "outputs": [],
   "source": [
    "from tkinter import ttk\n",
    "window = tk.Tk()\n",
    "window.title('Welcome to goa singham')\n",
    "\n",
    "spin = tk.Spinbox(window,width = 5,from_ = 0,to = 10).pack(side = 'left')\n",
    "\n",
    "window.mainloop()"
   ]
  },
  {
   "cell_type": "code",
   "execution_count": 123,
   "id": "d21882d4",
   "metadata": {},
   "outputs": [],
   "source": [
    "from tkinter import ttk\n",
    "window = tk.Tk()\n",
    "window.title('Welcome to goa singham')\n",
    "\n",
    "radio = tk.Radiobutton(window,text = 'Batch 1',value = 1).pack()\n",
    "radio2 = tk.Radiobutton(window,text = 'Batch 2',value = 2).pack()\n",
    "radio3 = tk.Radiobutton(window,text = 'Batch 3',value = 3).pack()\n",
    "\n",
    "window.mainloop()"
   ]
  },
  {
   "cell_type": "code",
   "execution_count": 129,
   "id": "8e6b511d",
   "metadata": {},
   "outputs": [],
   "source": [
    "from tkinter import ttk\n",
    "window = tk.Tk()\n",
    "window.geometry(\"300x300\")\n",
    "window.configure(bg = 'yellow')\n",
    "window.title('Welcome to goa singham')\n",
    "\n",
    "radio = tk.Radiobutton(window,text = 'Batch 1',value = 1).pack()\n",
    "radio2 = tk.Radiobutton(window,text = 'Batch 2',value = 2).pack()\n",
    "radio3 = tk.Radiobutton(window,text = 'Batch 3',value = 3).pack()\n",
    "\n",
    "window.mainloop()"
   ]
  },
  {
   "cell_type": "code",
   "execution_count": null,
   "id": "4f138d9f",
   "metadata": {},
   "outputs": [],
   "source": []
  }
 ],
 "metadata": {
  "kernelspec": {
   "display_name": "Python 3 (ipykernel)",
   "language": "python",
   "name": "python3"
  },
  "language_info": {
   "codemirror_mode": {
    "name": "ipython",
    "version": 3
   },
   "file_extension": ".py",
   "mimetype": "text/x-python",
   "name": "python",
   "nbconvert_exporter": "python",
   "pygments_lexer": "ipython3",
   "version": "3.9.12"
  }
 },
 "nbformat": 4,
 "nbformat_minor": 5
}
